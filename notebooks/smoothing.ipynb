{
 "cells": [
  {
   "cell_type": "code",
   "execution_count": 11,
   "metadata": {},
   "outputs": [],
   "source": [
    "import statistics\n",
    "\n",
    "import torch\n",
    "from safetensors.torch import load_model\n",
    "\n",
    "import ngmb\n"
   ]
  },
  {
   "cell_type": "markdown",
   "metadata": {},
   "source": [
    "We compute the dirichlet energy of each model trained on the ER[100,8,0.12] dataset."
   ]
  },
  {
   "cell_type": "code",
   "execution_count": 12,
   "metadata": {},
   "outputs": [],
   "source": [
    "dataset = ngmb.graph_matching.GMDataset(\"/scratch/jlagesse/ngmb-data/AQSOL[0.12]\")\n",
    "batched_graphs_base = ngmb.BatchedSparseGraphs.from_graphs([dataset[i].base_graph for i in range(100)])\n",
    "batched_graphs_corrupted = ngmb.BatchedSparseGraphs.from_graphs([dataset[i].corrupted_graph for i in range(100)])\n",
    "batched_signals = ngmb.BatchedSignals.from_signals([torch.ones((g.order(),1)) for g in batched_graphs_base])"
   ]
  },
  {
   "cell_type": "code",
   "execution_count": 13,
   "metadata": {},
   "outputs": [],
   "source": [
    "normalized_laplacian_base = []\n",
    "for i in range(1000):\n",
    "    adj = dataset[i].base_graph.adj()\n",
    "    D = torch.diag(adj.float().sum(dim=0).flatten())\n",
    "    normalized_laplacian_base.append(D - adj.float())\n",
    "\n",
    "normalized_laplacian_corrupted = []\n",
    "for i in range(1000):\n",
    "    adj = dataset[i].corrupted_graph.adj()\n",
    "    sqrt_D_inv = 1./torch.diag(torch.sqrt(1. + adj.float().sum(dim=0).flatten()))\n",
    "    normalized_laplacian_corrupted.append(torch.eye(len(adj)) - sqrt_D_inv@adj.float()@sqrt_D_inv)\n"
   ]
  },
  {
   "cell_type": "code",
   "execution_count": 14,
   "metadata": {},
   "outputs": [
    {
     "data": {
      "text/plain": [
       "(set(), [])"
      ]
     },
     "execution_count": 14,
     "metadata": {},
     "output_type": "execute_result"
    }
   ],
   "source": [
    "laplacian_model = ngmb.models.LaplacianEmbeddings(12)\n",
    "\n",
    "gcn_model = ngmb.models.GCN(4,128, 64)\n",
    "load_model(gcn_model, \"/home/jlagesse/ngmb/mlruns/234526619589976943/4d7bba6ec2294bc2a1ecf52a57afc677/artifacts/checkpoint.safetensors\")\n",
    "\n",
    "gin_model = ngmb.models.GIN(4,93, 64)\n",
    "load_model(gin_model, \"/home/jlagesse/ngmb/mlruns/234526619589976943/c46b800e293346e08cd61516041ad789/artifacts/checkpoint.safetensors\")\n",
    "\n",
    "gatedgcn_model = ngmb.models.GatedGCN(4,48, 64)\n",
    "load_model(gatedgcn_model, \"/home/jlagesse/ngmb/mlruns/234526619589976943/18239a1301b54ed3a31b5d0b0ca3443a/artifacts/checkpoint.safetensors\")\n",
    "\n",
    "gat_model = ngmb.models.GAT(4,8,128, 64)\n",
    "load_model(gat_model, \"/home/jlagesse/ngmb/mlruns/234526619589976943/d77f5e4ba0e94fec9da5deddcf138908/artifacts/checkpoint.safetensors\")\n",
    "\n",
    "gatv2_model = ngmb.models.GATv2(4,8,96, 64)\n",
    "load_model(gatv2_model, \"/home/jlagesse/ngmb/mlruns/234526619589976943/0170730345274a0aa001e43c94a7b697/artifacts/checkpoint.safetensors\")"
   ]
  },
  {
   "cell_type": "code",
   "execution_count": 15,
   "metadata": {},
   "outputs": [
    {
     "name": "stdout",
     "output_type": "stream",
     "text": [
      "Laplcian: 1.687764201760292 (stdev: 0.28109543395309294)\n",
      "GCN: 0.529428940564394 (stdev: 0.26332027102257766)\n",
      "GIN: 0.2770280782599002 (stdev: 0.24362235473407776)\n",
      "GatedGCN: 0.8259057630226017 (stdev: 0.522280126945536)\n",
      "GAT: 0.6614315517991781 (stdev: 0.3149335581264486)\n",
      "GATv2: 0.7669066916778684 (stdev: 0.39746722784060523)\n"
     ]
    }
   ],
   "source": [
    "models = [\"Laplcian\", \"GCN\", \"GIN\", \"GatedGCN\", \"GAT\", \"GATv2\"]\n",
    "for idx,MODEL in enumerate([laplacian_model, gcn_model, gin_model, gatedgcn_model, gat_model, gatv2_model]):\n",
    "    res = []\n",
    "    for i,(signal_base, signal_corrupted) in enumerate(zip(MODEL.forward(batched_signals, batched_graphs_base).unbatch(), MODEL.forward(batched_signals, batched_graphs_corrupted).unbatch())):\n",
    "        energy_base = torch.trace(signal_base.T@normalized_laplacian_base[i]@signal_base)\n",
    "        energy_corrupted = torch.trace(signal_corrupted.T@normalized_laplacian_corrupted[i]@signal_corrupted)\n",
    "\n",
    "        norm = torch.trace(signal_base@signal_base.T)\n",
    "\n",
    "        res.append(float(energy_base/norm))\n",
    "    print(f\"{models[idx]}: {statistics.mean(res)} (stdev: {statistics.stdev(res)})\")"
   ]
  }
 ],
 "metadata": {
  "kernelspec": {
   "display_name": ".venv",
   "language": "python",
   "name": "python3"
  },
  "language_info": {
   "codemirror_mode": {
    "name": "ipython",
    "version": 3
   },
   "file_extension": ".py",
   "mimetype": "text/x-python",
   "name": "python",
   "nbconvert_exporter": "python",
   "pygments_lexer": "ipython3",
   "version": "3.12.2"
  }
 },
 "nbformat": 4,
 "nbformat_minor": 2
}
